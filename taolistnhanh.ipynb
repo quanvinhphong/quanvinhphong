{
 "cells": [
  {
   "cell_type": "code",
   "execution_count": 190,
   "metadata": {},
   "outputs": [],
   "source": [
    "tinhvinhlong=[\"huyenvungliem\",\"huyenbinhtan\",\"huyenlongho\",\"huyenmangthit\",\"huyentambinh\",\"huyentraon\",\"thanhphovinhlong\",\"thixabinhminh\"]\n",
    "vinhlong=[\"Thị trấn Vũng Liêm\",\"Xã Hiếu Nghĩa\",\"Xã Hiếu Nhơn\",\"Xã Hiếu Phụng\",\"Xã Hiếu Thành\",\"Xã Hiếu Thuận\",\"Xã Quới An\",\"Xã Quới Thiện\",\"Xã Tân An Luông\",\"Xã Tân Quới Trung\",\"Xã Thanh Bình\",\"Xã Trung An\",\"Xã Trung Chánh\",\"Xã Trung Hiệp\",\"Xã Trung Hiếu\",\"Xã Trung Ngãi\",\"Xã Trung Nghĩa\",\"Xã Trung Thành\",\"Xã Trung Thành Đông\",\"Xã Trung Thành Tây\",\"Thị trấn Tân Quới\",\"Xã Mỹ Thuận\",\"Xã Nguyễn Văn Thảnh\",\"Xã Tân An Thạnh\",\"Xã Tân Bình\",\"Xã Tân Hưng\",\"Xã Tân Lược\",\"Xã Tân Thành\",\"Xã Thành Lợi\",\"Xã Thành Trung\",\"Thị trấn Long Hồ\",\"Xã An Bình\",\"Xã Bình Hòa Phước\",\"Xã Đồng Phú\",\"Xã Hòa Ninh\",\"Xã Hòa Phú\",\"Xã Lộc Hòa\",\"Xã Long An\",\"Xã Long Phước\",\"Xã Phú Đức\",\"Xã Phú Quới\",\"Xã Phước Hậu\",\"Xã Tân Hạnh\",\"Xã Thanh Đức\",\"Xã Thạnh Quới\",\"Thị trấn Cái Nhum\",\"Xã An Phước\",\"Xã Bình Phước\",\"Xã Chánh An\",\"Xã Hòa Tịnh\",\"Xã Long Mỹ\",\"Xã Mỹ An\",\"Xã Mỹ Phước\",\"Xã Nhơn Phú\",\"Xã Tân An Hội\",\"Xã Tân Long\",\"Xã Tân Long Hội\",\"Thị trấn Tam Bình\",\"Xã Bình Ninh\",\"Xã Hậu Lộc\",\"Xã Hòa Hiệp\",\"Xã Hoà Lộc\",\"Xã Hòa Thạnh\",\"Xã Loan Mỹ\",\"Xã Long Phú\",\"Xã Mỹ Lộc\",\"Xã Mỹ Thạnh Trung\",\"Xã Ngãi Tứ\",\"Xã Phú Lộc\",\"Xã Phú Thịnh\",\"Xã Song Phú\",\"Xã Tân Lộc\",\"Xã Tân Phú\",\"Xã Tường Lộc\",\"Thị trấn Trà Ôn\",\"Xã Hòa Bình\",\"Xã Hựu Thành\",\"Xã Lục Sỹ Thành\",\"Xã Nhơn Bình\",\"Xã Phú Thành\",\"Xã Tân Mỹ\",\"Xã Thiện Mỹ\",\"Xã Thới Hòa\",\"Xã Thuận Thới\",\"Xã Tích Thiện\",\"Xã Trà Côn\",\"Xã Vĩnh Xuân\",\"Xã Xuân Hiệp\",\"Phường 1\",\"Phường 2\",\"Phường 3\",\"Phường 4\",\"Phường 5\",\"Phường 8\",\"Phường 9\",\"Phường Tân Hòa\",\"Phường Tân Hội\",\"Phường Tân Ngãi\",\"Phường Trường An\",\"Phường Cái Vồn\",\"Phường Đông Thuận\",\"Phường Thành Phước\",\"Xã Đông Bình\",\"Xã Đông Thành\",\"Xã Đông Thạnh\",\"Xã Mỹ Hòa\",\"Xã Thuận An\"]\n",
    "VINHLONG=[\"Huyện  Vũng Liêm\",\"Huyện  Vũng Liêm\",\"Huyện  Vũng Liêm\",\"Huyện  Vũng Liêm\",\"Huyện  Vũng Liêm\",\"Huyện  Vũng Liêm\",\"Huyện  Vũng Liêm\",\"Huyện  Vũng Liêm\",\"Huyện  Vũng Liêm\",\"Huyện  Vũng Liêm\",\"Huyện  Vũng Liêm\",\"Huyện  Vũng Liêm\",\"Huyện  Vũng Liêm\",\"Huyện  Vũng Liêm\",\"Huyện  Vũng Liêm\",\"Huyện  Vũng Liêm\",\"Huyện  Vũng Liêm\",\"Huyện  Vũng Liêm\",\"Huyện  Vũng Liêm\",\"Huyện  Vũng Liêm\",\"Huyện Bình Tân\",\"Huyện Bình Tân\",\"Huyện Bình Tân\",\"Huyện Bình Tân\",\"Huyện Bình Tân\",\"Huyện Bình Tân\",\"Huyện Bình Tân\",\"Huyện Bình Tân\",\"Huyện Bình Tân\",\"Huyện Bình Tân\",\"Huyện Long Hồ\",\"Huyện Long Hồ\",\"Huyện Long Hồ\",\"Huyện Long Hồ\",\"Huyện Long Hồ\",\"Huyện Long Hồ\",\"Huyện Long Hồ\",\"Huyện Long Hồ\",\"Huyện Long Hồ\",\"Huyện Long Hồ\",\"Huyện Long Hồ\",\"Huyện Long Hồ\",\"Huyện Long Hồ\",\"Huyện Long Hồ\",\"Huyện Long Hồ\",\"Huyện Mang Thít\",\"Huyện Mang Thít\",\"Huyện Mang Thít\",\"Huyện Mang Thít\",\"Huyện Mang Thít\",\"Huyện Mang Thít\",\"Huyện Mang Thít\",\"Huyện Mang Thít\",\"Huyện Mang Thít\",\"Huyện Mang Thít\",\"Huyện Mang Thít\",\"Huyện Mang Thít\",\"Huyện Tam Bình\",\"Huyện Tam Bình\",\"Huyện Tam Bình\",\"Huyện Tam Bình\",\"Huyện Tam Bình\",\"Huyện Tam Bình\",\"Huyện Tam Bình\",\"Huyện Tam Bình\",\"Huyện Tam Bình\",\"Huyện Tam Bình\",\"Huyện Tam Bình\",\"Huyện Tam Bình\",\"Huyện Tam Bình\",\"Huyện Tam Bình\",\"Huyện Tam Bình\",\"Huyện Tam Bình\",\"Huyện Tam Bình\",\"Huyện Trà Ôn\",\"Huyện Trà Ôn\",\"Huyện Trà Ôn\",\"Huyện Trà Ôn\",\"Huyện Trà Ôn\",\"Huyện Trà Ôn\",\"Huyện Trà Ôn\",\"Huyện Trà Ôn\",\"Huyện Trà Ôn\",\"Huyện Trà Ôn\",\"Huyện Trà Ôn\",\"Huyện Trà Ôn\",\"Huyện Trà Ôn\",\"Huyện Trà Ôn\",\"Thành phố Vĩnh Long\",\"Thành phố Vĩnh Long\",\"Thành phố Vĩnh Long\",\"Thành phố Vĩnh Long\",\"Thành phố Vĩnh Long\",\"Thành phố Vĩnh Long\",\"Thành phố Vĩnh Long\",\"Thành phố Vĩnh Long\",\"Thành phố Vĩnh Long\",\"Thành phố Vĩnh Long\",\"Thành phố Vĩnh Long\",\"Thị xã Bình Minh\",\"Thị xã Bình Minh\",\"Thị xã Bình Minh\",\"Thị xã Bình Minh\",\"Thị xã Bình Minh\",\"Thị xã Bình Minh\",\"Thị xã Bình Minh\",\"Thị xã Bình Minh\"]\n",
    "tvl=[tinhvinhlong,vinhlong,VINHLONG]\n",
    "\n",
    "\n",
    "\n",
    "\n",
    "\n",
    "\n",
    "\n",
    "\n",
    "\n",
    "\n",
    "\n",
    "\n",
    "\n",
    "\n",
    "def timi(diaphuong):\n",
    "    giatri=[]\n",
    "    for i in range(0,len(diaphuong)):\n",
    "        i=i-1\n",
    "        if diaphuong[i]!=diaphuong[i-1]:\n",
    "            giatri.append(i)\n",
    "    return giatri\n",
    "\n",
    "def taolistnhanh(a):  \n",
    "    mylist=timi(a[2])\n",
    "    for x in range(0,len(mylist)):\n",
    "        if x==(len(mylist)-1):\n",
    "            print((a[0])[x],\"=\",(a[1][mylist[x]:]))\n",
    "        else:\n",
    "            print((a[0])[x],\"=\",a[1][mylist[x]:mylist[x+1]])       \n",
    "\n",
    "\n"
   ]
  },
  {
   "cell_type": "code",
   "execution_count": 191,
   "metadata": {},
   "outputs": [
    {
     "name": "stdout",
     "output_type": "stream",
     "text": [
      "[0, 20, 30, 45, 57, 74, 88, 99]\n"
     ]
    }
   ],
   "source": [
    "print(timi(tvl[2]))"
   ]
  },
  {
   "cell_type": "code",
   "execution_count": 192,
   "metadata": {},
   "outputs": [
    {
     "name": "stdout",
     "output_type": "stream",
     "text": [
      "huyenvungliem = ['Thị trấn Vũng Liêm', 'Xã Hiếu Nghĩa', 'Xã Hiếu Nhơn', 'Xã Hiếu Phụng', 'Xã Hiếu Thành', 'Xã Hiếu Thuận', 'Xã Quới An', 'Xã Quới Thiện', 'Xã Tân An Luông', 'Xã Tân Quới Trung', 'Xã Thanh Bình', 'Xã Trung An', 'Xã Trung Chánh', 'Xã Trung Hiệp', 'Xã Trung Hiếu', 'Xã Trung Ngãi', 'Xã Trung Nghĩa', 'Xã Trung Thành', 'Xã Trung Thành Đông', 'Xã Trung Thành Tây']\n",
      "huyenbinhtan = ['Thị trấn Tân Quới', 'Xã Mỹ Thuận', 'Xã Nguyễn Văn Thảnh', 'Xã Tân An Thạnh', 'Xã Tân Bình', 'Xã Tân Hưng', 'Xã Tân Lược', 'Xã Tân Thành', 'Xã Thành Lợi', 'Xã Thành Trung']\n",
      "huyenlongho = ['Thị trấn Long Hồ', 'Xã An Bình', 'Xã Bình Hòa Phước', 'Xã Đồng Phú', 'Xã Hòa Ninh', 'Xã Hòa Phú', 'Xã Lộc Hòa', 'Xã Long An', 'Xã Long Phước', 'Xã Phú Đức', 'Xã Phú Quới', 'Xã Phước Hậu', 'Xã Tân Hạnh', 'Xã Thanh Đức', 'Xã Thạnh Quới']\n",
      "huyenmangthit = ['Thị trấn Cái Nhum', 'Xã An Phước', 'Xã Bình Phước', 'Xã Chánh An', 'Xã Hòa Tịnh', 'Xã Long Mỹ', 'Xã Mỹ An', 'Xã Mỹ Phước', 'Xã Nhơn Phú', 'Xã Tân An Hội', 'Xã Tân Long', 'Xã Tân Long Hội']\n",
      "huyentambinh = ['Thị trấn Tam Bình', 'Xã Bình Ninh', 'Xã Hậu Lộc', 'Xã Hòa Hiệp', 'Xã Hoà Lộc', 'Xã Hòa Thạnh', 'Xã Loan Mỹ', 'Xã Long Phú', 'Xã Mỹ Lộc', 'Xã Mỹ Thạnh Trung', 'Xã Ngãi Tứ', 'Xã Phú Lộc', 'Xã Phú Thịnh', 'Xã Song Phú', 'Xã Tân Lộc', 'Xã Tân Phú', 'Xã Tường Lộc']\n",
      "huyentraon = ['Thị trấn Trà Ôn', 'Xã Hòa Bình', 'Xã Hựu Thành', 'Xã Lục Sỹ Thành', 'Xã Nhơn Bình', 'Xã Phú Thành', 'Xã Tân Mỹ', 'Xã Thiện Mỹ', 'Xã Thới Hòa', 'Xã Thuận Thới', 'Xã Tích Thiện', 'Xã Trà Côn', 'Xã Vĩnh Xuân', 'Xã Xuân Hiệp']\n",
      "thanhphovinhlong = ['Phường 1', 'Phường 2', 'Phường 3', 'Phường 4', 'Phường 5', 'Phường 8', 'Phường 9', 'Phường Tân Hòa', 'Phường Tân Hội', 'Phường Tân Ngãi', 'Phường Trường An']\n",
      "thixabinhminh = ['Phường Cái Vồn', 'Phường Đông Thuận', 'Phường Thành Phước', 'Xã Đông Bình', 'Xã Đông Thành', 'Xã Đông Thạnh', 'Xã Mỹ Hòa', 'Xã Thuận An']\n"
     ]
    }
   ],
   "source": [
    "taolistnhanh(tvl)"
   ]
  },
  {
   "cell_type": "code",
   "execution_count": null,
   "metadata": {},
   "outputs": [],
   "source": []
  },
  {
   "cell_type": "code",
   "execution_count": null,
   "metadata": {},
   "outputs": [],
   "source": []
  },
  {
   "cell_type": "code",
   "execution_count": null,
   "metadata": {},
   "outputs": [],
   "source": []
  }
 ],
 "metadata": {
  "kernelspec": {
   "display_name": "Python 3",
   "language": "python",
   "name": "python3"
  },
  "language_info": {
   "codemirror_mode": {
    "name": "ipython",
    "version": 3
   },
   "file_extension": ".py",
   "mimetype": "text/x-python",
   "name": "python",
   "nbconvert_exporter": "python",
   "pygments_lexer": "ipython3",
   "version": "3.8.6rc1"
  }
 },
 "nbformat": 4,
 "nbformat_minor": 4
}
