{
 "cells": [
  {
   "cell_type": "code",
   "execution_count": 3,
   "metadata": {},
   "outputs": [
    {
     "name": "stdout",
     "output_type": "stream",
     "text": [
      "['Thành Phố Hồ Chí Minh', ['Thành Phố Thủ Đức', 'Phường An Khánh', 'Phường An Lợi Đông', 'Phường An Phú', 'Phường Bình Chiểu', 'Phường Bình Thọ', 'Phường Bình Trưng Đông', 'Phường Bình Trưng Tây', 'Phường Cát Lái', 'Phường Hiệp Bình Chánh', 'Phường Hiệp Bình Phước', 'Phường Hiệp Phú', 'Phường Linh Chiểu', 'Phường Linh Đông', 'Phường Linh Tây', 'Phường Linh Trung', 'Phường Linh Xuân', 'Phường Long Bình', 'Phường Long Phước', 'Phường Long Thạnh Mỹ', 'Phường Long Trường', 'Phường Phú Hữu', 'Phường Phước Bình', 'Phường Phước Long A', 'Phường Phước Long B', 'Phường Tam Bình', 'Phường Tam Phú', 'Phường Tân Phú', 'Phường Tăng Nhơn Phú A', 'Phường Tăng Nhơn Phú B', 'Phường Thạnh Mỹ Lợi', 'Phường Thảo Điền', 'Phường Thủ Thiêm', 'Phường Trường Thạnh', 'Phường Trường Thọ'], ['Quận 1', 'Phường Bến Nghé', 'Phường Bến Thành', 'Phường Cầu Kho', 'Phường Cầu Ông Lãnh', 'Phường Cô Giang', 'Phường Đa Kao', 'Phường Nguyễn Cư Trinh', 'Phường Nguyễn Thái Bình', 'Phường Phạm Ngũ Lão', 'Phường Tân Định'], ['Quận 3', 'Phường 01', 'Phường 02', 'Phường 03', 'Phường 04', 'Phường 05', 'Phường 09', 'Phường 10', 'Phường 11', 'Phường 12', 'Phường 13', 'Phường 14', 'Phường Võ Thị Sáu'], ['Quận 4', 'Phường 01', 'Phường 02', 'Phường 03', 'Phường 04', 'Phường 06', 'Phường 08', 'Phường 09', 'Phường 10', 'Phường 13', 'Phường 14', 'Phường 15', 'Phường 16', 'Phường 18'], ['Quận 5', 'Phường 01', 'Phường 02', 'Phường 03', 'Phường 04', 'Phường 05', 'Phường 06', 'Phường 07', 'Phường 08', 'Phường 09', 'Phường 10', 'Phường 11', 'Phường 12', 'Phường 13', 'Phường 14'], ['Quận 6', 'Phường 01', 'Phường 02', 'Phường 03', 'Phường 04', 'Phường 05', 'Phường 06', 'Phường 07', 'Phường 08', 'Phường 09', 'Phường 10', 'Phường 11', 'Phường 12', 'Phường 13', 'Phường 14'], ['Quận 7', 'Phường Bình Thuận', 'Phường Phú Mỹ', 'Phường Phú Thuận', 'Phường Tân Hưng', 'Phường Tân Kiểng', 'Phường Tân Phong', 'Phường Tân Phú', 'Phường Tân Quy', 'Phường Tân Thuận Đông', 'Phường Tân Thuận Tây'], ['Quận 8', 'Phường 01', 'Phường 02', 'Phường 03', 'Phường 04', 'Phường 05', 'Phường 06', 'Phường 07', 'Phường 08', 'Phường 09', 'Phường 10', 'Phường 11', 'Phường 12', 'Phường 13', 'Phường 14', 'Phường 15', 'Phường 16'], ['Quận 10', 'Phường 01', 'Phường 02', 'Phường 04', 'Phường 05', 'Phường 06', 'Phường 07', 'Phường 08', 'Phường 09', 'Phường 10', 'Phường 11', 'Phường 12', 'Phường 13', 'Phường 14', 'Phường 15'], ['Quận 11', 'Phường 01', 'Phường 02', 'Phường 03', 'Phường 04', 'Phường 05', 'Phường 06', 'Phường 07', 'Phường 08', 'Phường 09', 'Phường 10', 'Phường 11', 'Phường 12', 'Phường 13', 'Phường 14', 'Phường 15', 'Phường 16'], ['Quận 12', 'Phường An Phú Đông', 'Phường Đông Hưng Thuận', 'Phường Hiệp Thành', 'Phường Tân Chánh Hiệp', 'Phường Tân Hưng Thuận', 'Phường Tân Thới Hiệp', 'Phường Tân Thới Nhất', 'Phường Thạnh Lộc', 'Phường Thạnh Xuân', 'Phường Thới An', 'Phường Trung Mỹ Tây'], ['Quận Bình Tân', 'Phường  An Lạc', 'Phường An Lạc A', 'Phường Bình Hưng Hòa', 'Phường Bình Hưng Hoà A', 'Phường Bình Hưng Hoà B', 'Phường Bình Trị Đông', 'Phường Bình Trị Đông A', 'Phường Bình Trị Đông B', 'Phường Tân Tạo', 'Phường Tân Tạo A'], ['Quận Bình Thạnh', 'Phường 01', 'Phường 02', 'Phường 03', 'Phường 05', 'Phường 06', 'Phường 07', 'Phường 11', 'Phường 12', 'Phường 13', 'Phường 14', 'Phường 15', 'Phường 17', 'Phường 19', 'Phường 21', 'Phường 22', 'Phường 24', 'Phường 25', 'Phường 26', 'Phường 27', 'Phường 28'], ['Quận Gò Vấp', 'Phường 01', 'Phường 03', 'Phường 04', 'Phường 05', 'Phường 06', 'Phường 07', 'Phường 08', 'Phường 09', 'Phường 10', 'Phường 11', 'Phường 12', 'Phường 13', 'Phường 14', 'Phường 15', 'Phường 16', 'Phường 17'], ['Quận Phú Nhuận', 'Phường 01', 'Phường 02', 'Phường 03', 'Phường 04', 'Phường 05', 'Phường 07', 'Phường 08', 'Phường 09', 'Phường 10', 'Phường 11', 'Phường 13', 'Phường 15', 'Phường 17'], ['Quận Tân Bình', 'Phường 01', 'Phường 02', 'Phường 03', 'Phường 04', 'Phường 05', 'Phường 06', 'Phường 07', 'Phường 08', 'Phường 09', 'Phường 10', 'Phường 11', 'Phường 12', 'Phường 13', 'Phường 14', 'Phường 15'], ['Quận Tân Phú', 'Phường Hiệp Tân', 'Phường Hòa Thạnh', 'Phường Phú Thạnh', 'Phường Phú Thọ Hòa', 'Phường Phú Trung', 'Phường Sơn Kỳ', 'Phường Tân Quý', 'Phường Tân Sơn Nhì', 'Phường Tân Thành', 'Phường Tân Thới Hòa', 'Phường Tây Thạnh']]\n"
     ]
    }
   ],
   "source": [
    "huyenbinhchanh=[\"Huyện Bình Chánh\",\"Thị Trấn Tân Túc\",\"Xã An Phú Tây\",\"Xã Bình Chánh\",\"Xã Bình Hưng\",\"Xã Bình Lợi\",\"Xã Đa Phước\",\"Xã Hưng Long\",\"Xã Lê Minh Xuân\",\"Xã Phạm Văn Hai\",\"Xã Phong Phú\",\"Xã Quy Đức\",\"Xã Tân Kiên\",\"Xã Tân Nhựt\",\"Xã Tân Quý Tây\",\"Xã Vĩnh Lộc A\",\"Xã Vĩnh Lộc B\"]\n",
    "huyencangio=[\"Huyện Cần Giờ\",\"Thị Trấn Cần Thạnh\",\"Xã An Thới Đông\",\"Xã Bình Khánh\",\"Xã Long Hòa\",\"Xã Lý Nhơn\",\"Xã Tam Thôn Hiệp\",\"Xã Thạnh An\"]\n",
    "huyencuchi=[\"Huyện Củ Chi\",\"Thị Trấn Củ Chi\",\"Xã An Nhơn Tây\",\"Xã An Phú\",\"Xã Bình Mỹ\",\"Xã Hòa Phú\",\"Xã Nhuận Đức\",\"Xã Phạm Văn Cội\",\"Xã Phú Hòa Đông\",\"Xã Phú Mỹ Hưng\",\"Xã Phước Hiệp\",\"Xã Phước Thạnh\",\"Xã Phước Vĩnh An\",\"Xã Tân An Hội\",\"Xã Tân Phú Trung\",\"Xã Tân Thạnh Đông\",\"Xã Tân Thạnh Tây\",\"Xã Tân Thông Hội\",\"Xã Thái Mỹ\",\"Xã Trung An\",\"Xã Trung Lập Hạ\",\"Xã Trung Lập Thượng\"]\n",
    "huyenhocmon=[\"Huyện Hóc Môn\",\"Thị Trấn Hóc Môn\",\"Xã Bà Điểm\",\"Xã Đông Thạnh\",\"Xã Nhị Bình\",\"Xã Tân Hiệp\",\"Xã Tân Thới Nhì\",\"Xã Tân Xuân\",\"Xã Thới Tam Thôn\",\"Xã Trung Chánh\",\"Xã Xuân Thới Đông\",\"Xã Xuân Thới Sơn\",\"Xã Xuân Thới Thượng\"]\n",
    "huyennhabe=[\"Huyện Nhà Bè\",\"Thị Trấn Nhà Bè\",\"Xã Hiệp Phước\",\"Xã Long Thới\",\"Xã Nhơn Đức\",\"Xã Phú Xuân\",\"Xã Phước Kiển\",\"Xã Phước Lộc\"]\n",
    "\n",
    "thanhphothuduc=[\"Thành Phố Thủ Đức\",\"Phường An Khánh\",\"Phường An Lợi Đông\",\"Phường An Phú\",\"Phường Bình Chiểu\",\"Phường Bình Thọ\",\"Phường Bình Trưng Đông\",\"Phường Bình Trưng Tây\",\"Phường Cát Lái\",\"Phường Hiệp Bình Chánh\",\"Phường Hiệp Bình Phước\",\"Phường Hiệp Phú\",\"Phường Linh Chiểu\",\"Phường Linh Đông\",\"Phường Linh Tây\",\"Phường Linh Trung\",\"Phường Linh Xuân\",\"Phường Long Bình\",\"Phường Long Phước\",\"Phường Long Thạnh Mỹ\",\"Phường Long Trường\",\"Phường Phú Hữu\",\"Phường Phước Bình\",\"Phường Phước Long A\",\"Phường Phước Long B\",\"Phường Tam Bình\",\"Phường Tam Phú\",\"Phường Tân Phú\",\"Phường Tăng Nhơn Phú A\",\"Phường Tăng Nhơn Phú B\",\"Phường Thạnh Mỹ Lợi\",\"Phường Thảo Điền\",\"Phường Thủ Thiêm\",\"Phường Trường Thạnh\",\"Phường Trường Thọ\"]\n",
    "\n",
    "quan1=[\"Quận 1\",\"Phường Bến Nghé\",\"Phường Bến Thành\",\"Phường Cầu Kho\",\"Phường Cầu Ông Lãnh\",\"Phường Cô Giang\",\"Phường Đa Kao\",\"Phường Nguyễn Cư Trinh\",\"Phường Nguyễn Thái Bình\",\"Phường Phạm Ngũ Lão\",\"Phường Tân Định\"]\n",
    "quan3=[\"Quận 3\",\"Phường 01\",\"Phường 02\",\"Phường 03\",\"Phường 04\",\"Phường 05\",\"Phường 09\",\"Phường 10\",\"Phường 11\",\"Phường 12\",\"Phường 13\",\"Phường 14\",\"Phường Võ Thị Sáu\"]\n",
    "quan4=[\"Quận 4\",\"Phường 01\",\"Phường 02\",\"Phường 03\",\"Phường 04\",\"Phường 06\",\"Phường 08\",\"Phường 09\",\"Phường 10\",\"Phường 13\",\"Phường 14\",\"Phường 15\",\"Phường 16\",\"Phường 18\"]\n",
    "quan5=[\"Quận 5\",\"Phường 01\",\"Phường 02\",\"Phường 03\",\"Phường 04\",\"Phường 05\",\"Phường 06\",\"Phường 07\",\"Phường 08\",\"Phường 09\",\"Phường 10\",\"Phường 11\",\"Phường 12\",\"Phường 13\",\"Phường 14\"]\n",
    "quan6=[\"Quận 6\",\"Phường 01\",\"Phường 02\",\"Phường 03\",\"Phường 04\",\"Phường 05\",\"Phường 06\",\"Phường 07\",\"Phường 08\",\"Phường 09\",\"Phường 10\",\"Phường 11\",\"Phường 12\",\"Phường 13\",\"Phường 14\"]\n",
    "quan7=[\"Quận 7\",\"Phường Bình Thuận\",\"Phường Phú Mỹ\",\"Phường Phú Thuận\",\"Phường Tân Hưng\",\"Phường Tân Kiểng\",\"Phường Tân Phong\",\"Phường Tân Phú\",\"Phường Tân Quy\",\"Phường Tân Thuận Đông\",\"Phường Tân Thuận Tây\"]\n",
    "quan8=[\"Quận 8\",\"Phường 01\",\"Phường 02\",\"Phường 03\",\"Phường 04\",\"Phường 05\",\"Phường 06\",\"Phường 07\",\"Phường 08\",\"Phường 09\",\"Phường 10\",\"Phường 11\",\"Phường 12\",\"Phường 13\",\"Phường 14\",\"Phường 15\",\"Phường 16\"]\n",
    "quan10=[\"Quận 10\",\"Phường 01\",\"Phường 02\",\"Phường 04\",\"Phường 05\",\"Phường 06\",\"Phường 07\",\"Phường 08\",\"Phường 09\",\"Phường 10\",\"Phường 11\",\"Phường 12\",\"Phường 13\",\"Phường 14\",\"Phường 15\"]\n",
    "quan11=[\"Quận 11\",\"Phường 01\",\"Phường 02\",\"Phường 03\",\"Phường 04\",\"Phường 05\",\"Phường 06\",\"Phường 07\",\"Phường 08\",\"Phường 09\",\"Phường 10\",\"Phường 11\",\"Phường 12\",\"Phường 13\",\"Phường 14\",\"Phường 15\",\"Phường 16\"]\n",
    "quan12=[\"Quận 12\",\"Phường An Phú Đông\",\"Phường Đông Hưng Thuận\",\"Phường Hiệp Thành\",\"Phường Tân Chánh Hiệp\",\"Phường Tân Hưng Thuận\",\"Phường Tân Thới Hiệp\",\"Phường Tân Thới Nhất\",\"Phường Thạnh Lộc\",\"Phường Thạnh Xuân\",\"Phường Thới An\",\"Phường Trung Mỹ Tây\"]\n",
    "quanbinhtan=[\"Quận Bình Tân\",\"Phường  An Lạc\",\"Phường An Lạc A\",\"Phường Bình Hưng Hòa\",\"Phường Bình Hưng Hoà A\",\"Phường Bình Hưng Hoà B\",\"Phường Bình Trị Đông\",\"Phường Bình Trị Đông A\",\"Phường Bình Trị Đông B\",\"Phường Tân Tạo\",\"Phường Tân Tạo A\"]\n",
    "quanbinhthanh=[\"Quận Bình Thạnh\",\"Phường 01\",\"Phường 02\",\"Phường 03\",\"Phường 05\",\"Phường 06\",\"Phường 07\",\"Phường 11\",\"Phường 12\",\"Phường 13\",\"Phường 14\",\"Phường 15\",\"Phường 17\",\"Phường 19\",\"Phường 21\",\"Phường 22\",\"Phường 24\",\"Phường 25\",\"Phường 26\",\"Phường 27\",\"Phường 28\"]\n",
    "quangovap=[\"Quận Gò Vấp\",\"Phường 01\",\"Phường 03\",\"Phường 04\",\"Phường 05\",\"Phường 06\",\"Phường 07\",\"Phường 08\",\"Phường 09\",\"Phường 10\",\"Phường 11\",\"Phường 12\",\"Phường 13\",\"Phường 14\",\"Phường 15\",\"Phường 16\",\"Phường 17\"]\n",
    "quanphunhuan=[\"Quận Phú Nhuận\",\"Phường 01\",\"Phường 02\",\"Phường 03\",\"Phường 04\",\"Phường 05\",\"Phường 07\",\"Phường 08\",\"Phường 09\",\"Phường 10\",\"Phường 11\",\"Phường 13\",\"Phường 15\",\"Phường 17\"]\n",
    "quantanbinh=[\"Quận Tân Bình\",\"Phường 01\",\"Phường 02\",\"Phường 03\",\"Phường 04\",\"Phường 05\",\"Phường 06\",\"Phường 07\",\"Phường 08\",\"Phường 09\",\"Phường 10\",\"Phường 11\",\"Phường 12\",\"Phường 13\",\"Phường 14\",\"Phường 15\"]\n",
    "quantanphu=[\"Quận Tân Phú\",\"Phường Hiệp Tân\",\"Phường Hòa Thạnh\",\"Phường Phú Thạnh\",\"Phường Phú Thọ Hòa\",\"Phường Phú Trung\",\"Phường Sơn Kỳ\",\"Phường Tân Quý\",\"Phường Tân Sơn Nhì\",\"Phường Tân Thành\",\"Phường Tân Thới Hòa\",\"Phường Tây Thạnh\"]\n",
    "\n",
    "tphcm=[\"Thành Phố Hồ Chí Minh\",thanhphothuduc,quan1,quan3,quan4,quan5,quan6,quan7,quan8,quan10,quan11,quan12,quanbinhtan,quanbinhthanh,quangovap,quanphunhuan,quantanbinh,quantanphu]\n",
    "print(tphcm)"
   ]
  },
  {
   "cell_type": "code",
   "execution_count": null,
   "metadata": {},
   "outputs": [],
   "source": []
  }
 ],
 "metadata": {
  "kernelspec": {
   "display_name": "Python 3",
   "language": "python",
   "name": "python3"
  },
  "language_info": {
   "codemirror_mode": {
    "name": "ipython",
    "version": 3
   },
   "file_extension": ".py",
   "mimetype": "text/x-python",
   "name": "python",
   "nbconvert_exporter": "python",
   "pygments_lexer": "ipython3",
   "version": "3.8.6rc1"
  }
 },
 "nbformat": 4,
 "nbformat_minor": 4
}
