{
 "cells": [
  {
   "cell_type": "code",
   "execution_count": null,
   "metadata": {},
   "outputs": [],
   "source": []
  },
  {
   "cell_type": "code",
   "execution_count": 8,
   "metadata": {},
   "outputs": [
    {
     "name": "stdout",
     "output_type": "stream",
     "text": [
      "Tân Bình\n"
     ]
    }
   ],
   "source": [
    "tphcm=[\"Thủ Đức\",\"Tân Bình\",\"Phú Nhuận\",\"Tân Phú\",\"Gò Vấp\",]\n",
    "binhduong=[\"Dĩ An\",\"Thuận An\",\"Bến Cát\"]\n",
    "dongnai=[\"Biên Hoà\",\"Long Thành\",\"Trảng Bom\"]\n",
    "dongnambo=[tphcm,binhduong,dongnai]\n",
    "matrix=[[\"a\",\"b\",\"c\"],[1,2,3],['A','B','C']]\n",
    "print(dongnambo[0][1])"
   ]
  },
  {
   "cell_type": "code",
   "execution_count": null,
   "metadata": {},
   "outputs": [],
   "source": []
  }
 ],
 "metadata": {
  "kernelspec": {
   "display_name": "Python 3",
   "language": "python",
   "name": "python3"
  },
  "language_info": {
   "codemirror_mode": {
    "name": "ipython",
    "version": 3
   },
   "file_extension": ".py",
   "mimetype": "text/x-python",
   "name": "python",
   "nbconvert_exporter": "python",
   "pygments_lexer": "ipython3",
   "version": "3.8.6rc1"
  }
 },
 "nbformat": 4,
 "nbformat_minor": 4
}
