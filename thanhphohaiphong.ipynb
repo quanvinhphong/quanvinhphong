{
 "cells": [
  {
   "cell_type": "code",
   "execution_count": 2,
   "metadata": {},
   "outputs": [
    {
     "name": "stdout",
     "output_type": "stream",
     "text": [
      "['Thành Phố Hải Phòng', ['Huyện An Dương', 'Thị Trấn An Dương', 'Xã An Đồng', 'Xã An Hoà', 'Xã An Hồng', 'Xã An Hưng', 'Xã Bắc Sơn', 'Xã Đại Bản', 'Xã Đặng Cương', 'Xã Đồng Thái', 'Xã Hồng Phong', 'Xã Hồng Thái', 'Xã Lê Lợi', 'Xã Lê Thiện', 'Xã Nam Sơn', 'Xã Quốc Tuấn', 'Xã Tân Tiến'], ['Huyện An Lão', 'Thị Trấn An Lão,Thị Trấn Trường Sơn', 'Xã An Thái', 'Xã An Thắng', 'Xã An Thọ', 'Xã An Tiến', 'Xã Bát Trang', 'Xã Chiến Thắng', 'Xã Mỹ Đức', 'Xã Quang Hưng', 'Xã Quang Trung', 'Xã Quốc Tuấn', 'Xã Tân Dân', 'Xã Tân Viên', 'Xã Thái Sơn', 'Xã Trường Thành', 'Xã Trường Thọ'], ['Huyện Bạch Long Vĩ'], ['Huyện Cát Hải', 'Thị Trấn Cát Bà,Thị Trấn Cát Hải', 'Xã Đồng Bài', 'Xã Gia Luận', 'Xã Hiền Hào', 'Xã Hoàng Châu', 'Xã Nghĩa Lộ', 'Xã Phù Long', 'Xã Trân Châu', 'Xã Văn Phong', 'Xã Việt Hải', 'Xã Xuân Đám'], ['Huyện Kiến Thuỵ', 'Thị Trấn Núi Đối', 'Xã Đại Đồng', 'Xã Đại Hà', 'Xã Đại Hợp', 'Xã Đoàn Xá', 'Xã Đông Phương', 'Xã Du Lễ', 'Xã Hữu Bằng', 'Xã Kiến Quốc', 'Xã Minh Tân', 'Xã Ngũ Đoan', 'Xã Ngũ Phúc', 'Xã Tân Phong', 'Xã Tân Trào', 'Xã Thanh Sơn', 'Xã Thuận Thiên', 'Xã Thuỵ Hương', 'Xã Tú Sơn'], ['Huyện Thuỷ Nguyên', 'Thị Trấn Minh Đức,Thị Trấn Núi Đèo', 'Xã An Lư', 'Xã An Sơn', 'Xã Cao Nhân', 'Xã Chính Mỹ', 'Xã Đông Sơn', 'Xã Dương Quan', 'Xã Gia Đức', 'Xã Gia Minh', 'Xã Hoà Bình', 'Xã Hoa Động', 'Xã Hoàng Động', 'Xã Hợp Thành', 'Xã Kênh Giang', 'Xã Kiền Bái', 'Xã Kỳ Sơn', 'Xã Lại Xuân', 'Xã Lâm Động', 'Xã Lập Lễ', 'Xã Liên Khê', 'Xã Lưu Kiếm', 'Xã Lưu Kỳ', 'Xã Minh Tân', 'Xã Mỹ Đồng', 'Xã Ngũ Lão', 'Xã Phả Lễ', 'Xã Phù Ninh', 'Xã Phục Lễ', 'Xã Quảng Thanh', 'Xã Tam Hưng', 'Xã Tân Dương', 'Xã Thiên Hương', 'Xã Thuỷ Đường', 'Xã Thuỷ Sơn', 'Xã Thuỷ Triều', 'Xã Trung Hà'], ['Huyện Tiên Lãng', 'Thị Trấn Tiên Lãng', 'Xã Bắc Hưng', 'Xã Bạch Đằng', 'Xã Cấp Tiến', 'Xã Đại Thắng', 'Xã Đoàn Lập', 'Xã Đông Hưng', 'Xã Hùng Thắng', 'Xã Khởi Nghĩa', 'Xã Kiến Thiết', 'Xã Nam Hưng', 'Xã Quang Phục', 'Xã Quyết Tiến', 'Xã Tây Hưng', 'Xã Tiên Cường', 'Xã Tiên Minh', 'Xã Tiên Thắng', 'Xã Tiên Thanh', 'Xã Toàn Thắng', 'Xã Tự Cường', 'Xã Vinh Quang'], ['Huyện Vĩnh Bảo', 'Thị Trấn Vĩnh Bảo', 'Xã An Hoà', 'Xã Cao Minh', 'Xã Cổ Am', 'Xã Cộng Hiền', 'Xã Đồng Minh', 'Xã Dũng Tiến', 'Xã Giang Biên', 'Xã Hiệp Hoà', 'Xã Hoà Bình', 'Xã Hưng Nhân', 'Xã Hùng Tiến', 'Xã Liên Am', 'Xã Lý Học', 'Xã Nhân Hoà', 'Xã Tam Cường', 'Xã Tam Đa', 'Xã Tân Hưng', 'Xã Tân Liên', 'Xã Thắng Thuỷ', 'Xã Thanh Lương', 'Xã Tiền Phong', 'Xã Trấn Dương', 'Xã Trung Lập', 'Xã Việt Tiến', 'Xã Vĩnh An', 'Xã Vĩnh Long', 'Xã Vĩnh Phong', 'Xã Vinh Quang', 'Xã Vĩnh Tiến'], ['Quận Đồ Sơn', 'Phường Bàng La', 'Phường Hải Sơn', 'Phường Hợp Đức', 'Phường Minh Đức', 'Phường Ngọc Xuyên', 'Phường Vạn Hương'], ['Quận Dương Kinh', 'Phường Anh Dũng', 'Phường Đa Phúc', 'Phường Hải Thành', 'Phường Hoà Nghĩa', 'Phường Hưng Đạo', 'Phường Tân Thành'], ['Quận Hải An', 'Phường Cát Bi', 'Phường Đằng Hải', 'Phường Đằng Lâm', 'Phường Đông Hải 1', 'Phường Đông Hải 2', 'Phường Nam Hải', 'Phường Thành Tô', 'Phường Tràng Cát'], ['Quận Hồng Bàng', 'Phường Hạ Lý', 'Phường Hoàng Văn Thụ', 'Phường Hùng Vương', 'Phường Minh Khai', 'Phường Phan Bội Châu', 'Phường Quán Toan', 'Phường Sở Dầu', 'Phường Thượng Lý', 'Phường Trại Chuối'], ['Quận Kiến An', 'Phường Bắc Sơn', 'Phường Đồng Hoà', 'Phường Lãm Hà', 'Phường Nam Sơn', 'Phường Ngọc Sơn', 'Phường Phù Liễn', 'Phường Quán Trữ', 'Phường Trần Thành Ngọ', 'Phường Tràng Minh', 'Phường Văn Đẩu'], ['Quận Lê Chân', 'Phường An Biên', 'Phường An Dương', 'Phường Cát Dài', 'Phường Đông Hải', 'Phường Dư Hàng', 'Phường Dư Hàng Kênh', 'Phường Hàng Kênh', 'Phường Hồ Nam', 'Phường Kênh Dương', 'Phường Lam Sơn', 'Phường Nghĩa Xá', 'Phường Niệm Nghĩa', 'Phường Trại Cau', 'Phường Trần Nguyên Hãn', 'Phường Vĩnh Niệm'], ['Quận Ngô Quyền', 'Phường Cầu Đất', 'Phường Cầu Tre', 'Phường Đằng Giang', 'Phường Đông Khê', 'Phường Đổng Quốc Bình', 'Phường Gia Viên', 'Phường Lạc Viên', 'Phường Lạch Tray', 'Phường Lê Lợi', 'Phường Máy Chai', 'Phường Máy Tơ', 'Phường Vạn Mỹ']]\n"
     ]
    }
   ],
   "source": [
    "#Thành Phố Hải Phòng\n",
    "huyenanduong=[\"Huyện An Dương\",\"Thị Trấn An Dương\",\"Xã An Đồng\",\"Xã An Hoà\",\"Xã An Hồng\",\"Xã An Hưng\",\"Xã Bắc Sơn\",\"Xã Đại Bản\",\"Xã Đặng Cương\",\"Xã Đồng Thái\",\"Xã Hồng Phong\",\"Xã Hồng Thái\",\"Xã Lê Lợi\",\"Xã Lê Thiện\",\"Xã Nam Sơn\",\"Xã Quốc Tuấn\",\"Xã Tân Tiến\"]\n",
    "huyenanlao=[\"Huyện An Lão\",\"Thị Trấn An Lão,Thị Trấn Trường Sơn\",\"Xã An Thái\",\"Xã An Thắng\",\"Xã An Thọ\",\"Xã An Tiến\",\"Xã Bát Trang\",\"Xã Chiến Thắng\",\"Xã Mỹ Đức\",\"Xã Quang Hưng\",\"Xã Quang Trung\",\"Xã Quốc Tuấn\",\"Xã Tân Dân\",\"Xã Tân Viên\",\"Xã Thái Sơn\",\"Xã Trường Thành\",\"Xã Trường Thọ\"]\n",
    "huyenbachlongvi=[\"Huyện Bạch Long Vĩ\"]\n",
    "huyencathai=[\"Huyện Cát Hải\",\"Thị Trấn Cát Bà,Thị Trấn Cát Hải\",\"Xã Đồng Bài\",\"Xã Gia Luận\",\"Xã Hiền Hào\",\"Xã Hoàng Châu\",\"Xã Nghĩa Lộ\",\"Xã Phù Long\",\"Xã Trân Châu\",\"Xã Văn Phong\",\"Xã Việt Hải\",\"Xã Xuân Đám\"]\n",
    "huyenkienthuy=[\"Huyện Kiến Thuỵ\",\"Thị Trấn Núi Đối\",\"Xã Đại Đồng\",\"Xã Đại Hà\",\"Xã Đại Hợp\",\"Xã Đoàn Xá\",\"Xã Đông Phương\",\"Xã Du Lễ\",\"Xã Hữu Bằng\",\"Xã Kiến Quốc\",\"Xã Minh Tân\",\"Xã Ngũ Đoan\",\"Xã Ngũ Phúc\",\"Xã Tân Phong\",\"Xã Tân Trào\",\"Xã Thanh Sơn\",\"Xã Thuận Thiên\",\"Xã Thuỵ Hương\",\"Xã Tú Sơn\"]\n",
    "huyenthuynguyen=[\"Huyện Thuỷ Nguyên\",\"Thị Trấn Minh Đức,Thị Trấn Núi Đèo\",\"Xã An Lư\",\"Xã An Sơn\",\"Xã Cao Nhân\",\"Xã Chính Mỹ\",\"Xã Đông Sơn\",\"Xã Dương Quan\",\"Xã Gia Đức\",\"Xã Gia Minh\",\"Xã Hoà Bình\",\"Xã Hoa Động\",\"Xã Hoàng Động\",\"Xã Hợp Thành\",\"Xã Kênh Giang\",\"Xã Kiền Bái\",\"Xã Kỳ Sơn\",\"Xã Lại Xuân\",\"Xã Lâm Động\",\"Xã Lập Lễ\",\"Xã Liên Khê\",\"Xã Lưu Kiếm\",\"Xã Lưu Kỳ\",\"Xã Minh Tân\",\"Xã Mỹ Đồng\",\"Xã Ngũ Lão\",\"Xã Phả Lễ\",\"Xã Phù Ninh\",\"Xã Phục Lễ\",\"Xã Quảng Thanh\",\"Xã Tam Hưng\",\"Xã Tân Dương\",\"Xã Thiên Hương\",\"Xã Thuỷ Đường\",\"Xã Thuỷ Sơn\",\"Xã Thuỷ Triều\",\"Xã Trung Hà\"]\n",
    "huyentienlang=[\"Huyện Tiên Lãng\",\"Thị Trấn Tiên Lãng\",\"Xã Bắc Hưng\",\"Xã Bạch Đằng\",\"Xã Cấp Tiến\",\"Xã Đại Thắng\",\"Xã Đoàn Lập\",\"Xã Đông Hưng\",\"Xã Hùng Thắng\",\"Xã Khởi Nghĩa\",\"Xã Kiến Thiết\",\"Xã Nam Hưng\",\"Xã Quang Phục\",\"Xã Quyết Tiến\",\"Xã Tây Hưng\",\"Xã Tiên Cường\",\"Xã Tiên Minh\",\"Xã Tiên Thắng\",\"Xã Tiên Thanh\",\"Xã Toàn Thắng\",\"Xã Tự Cường\",\"Xã Vinh Quang\"]\n",
    "huyenvinhbao=[\"Huyện Vĩnh Bảo\",\"Thị Trấn Vĩnh Bảo\",\"Xã An Hoà\",\"Xã Cao Minh\",\"Xã Cổ Am\",\"Xã Cộng Hiền\",\"Xã Đồng Minh\",\"Xã Dũng Tiến\",\"Xã Giang Biên\",\"Xã Hiệp Hoà\",\"Xã Hoà Bình\",\"Xã Hưng Nhân\",\"Xã Hùng Tiến\",\"Xã Liên Am\",\"Xã Lý Học\",\"Xã Nhân Hoà\",\"Xã Tam Cường\",\"Xã Tam Đa\",\"Xã Tân Hưng\",\"Xã Tân Liên\",\"Xã Thắng Thuỷ\",\"Xã Thanh Lương\",\"Xã Tiền Phong\",\"Xã Trấn Dương\",\"Xã Trung Lập\",\"Xã Việt Tiến\",\"Xã Vĩnh An\",\"Xã Vĩnh Long\",\"Xã Vĩnh Phong\",\"Xã Vinh Quang\",\"Xã Vĩnh Tiến\"]\n",
    "quandoson=[\"Quận Đồ Sơn\",\"Phường Bàng La\",\"Phường Hải Sơn\",\"Phường Hợp Đức\",\"Phường Minh Đức\",\"Phường Ngọc Xuyên\",\"Phường Vạn Hương\"]\n",
    "quanduongkinh=[\"Quận Dương Kinh\",\"Phường Anh Dũng\",\"Phường Đa Phúc\",\"Phường Hải Thành\",\"Phường Hoà Nghĩa\",\"Phường Hưng Đạo\",\"Phường Tân Thành\"]\n",
    "quanhaian=[\"Quận Hải An\",\"Phường Cát Bi\",\"Phường Đằng Hải\",\"Phường Đằng Lâm\",\"Phường Đông Hải 1\",\"Phường Đông Hải 2\",\"Phường Nam Hải\",\"Phường Thành Tô\",\"Phường Tràng Cát\"]\n",
    "quanhongbang=[\"Quận Hồng Bàng\",\"Phường Hạ Lý\",\"Phường Hoàng Văn Thụ\",\"Phường Hùng Vương\",\"Phường Minh Khai\",\"Phường Phan Bội Châu\",\"Phường Quán Toan\",\"Phường Sở Dầu\",\"Phường Thượng Lý\",\"Phường Trại Chuối\"]\n",
    "quankienan=[\"Quận Kiến An\",\"Phường Bắc Sơn\",\"Phường Đồng Hoà\",\"Phường Lãm Hà\",\"Phường Nam Sơn\",\"Phường Ngọc Sơn\",\"Phường Phù Liễn\",\"Phường Quán Trữ\",\"Phường Trần Thành Ngọ\",\"Phường Tràng Minh\",\"Phường Văn Đẩu\"]\n",
    "quanlechan=[\"Quận Lê Chân\",\"Phường An Biên\",\"Phường An Dương\",\"Phường Cát Dài\",\"Phường Đông Hải\",\"Phường Dư Hàng\",\"Phường Dư Hàng Kênh\",\"Phường Hàng Kênh\",\"Phường Hồ Nam\",\"Phường Kênh Dương\",\"Phường Lam Sơn\",\"Phường Nghĩa Xá\",\"Phường Niệm Nghĩa\",\"Phường Trại Cau\",\"Phường Trần Nguyên Hãn\",\"Phường Vĩnh Niệm\"]\n",
    "quanngoquyen=[\"Quận Ngô Quyền\",\"Phường Cầu Đất\",\"Phường Cầu Tre\",\"Phường Đằng Giang\",\"Phường Đông Khê\",\"Phường Đổng Quốc Bình\",\"Phường Gia Viên\",\"Phường Lạc Viên\",\"Phường Lạch Tray\",\"Phường Lê Lợi\",\"Phường Máy Chai\",\"Phường Máy Tơ\",\"Phường Vạn Mỹ\"]\n",
    "\n",
    "thanhphohaiphong=[\"Thành Phố Hải Phòng\",huyenanduong,huyenanlao,huyenbachlongvi,huyencathai,huyenkienthuy,huyenthuynguyen,huyentienlang,huyenvinhbao,quandoson,quanduongkinh,quanhaian,quanhongbang,quankienan,quanlechan,quanngoquyen]\n",
    "\n",
    "print(thanhphohaiphong)\n",
    "\n",
    "\n",
    "\n"
   ]
  },
  {
   "cell_type": "code",
   "execution_count": null,
   "metadata": {},
   "outputs": [],
   "source": []
  }
 ],
 "metadata": {
  "kernelspec": {
   "display_name": "Python 3",
   "language": "python",
   "name": "python3"
  },
  "language_info": {
   "codemirror_mode": {
    "name": "ipython",
    "version": 3
   },
   "file_extension": ".py",
   "mimetype": "text/x-python",
   "name": "python",
   "nbconvert_exporter": "python",
   "pygments_lexer": "ipython3",
   "version": "3.8.6rc1"
  }
 },
 "nbformat": 4,
 "nbformat_minor": 4
}
